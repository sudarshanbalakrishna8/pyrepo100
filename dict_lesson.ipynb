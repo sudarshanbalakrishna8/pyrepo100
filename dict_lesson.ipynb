{
 "cells": [
  {
   "cell_type": "code",
   "execution_count": 34,
   "metadata": {},
   "outputs": [],
   "source": [
    "aws_infra_data = {\n",
    "\"compute\": {\n",
    "\"total_ec2_instances\": 5000,\n",
    "\"running_instances\": 4500,\n",
    "\"stopped_instances\": 500,\n",
    "\"average_cpu_utilization_percent\": 65,\n",
    "\"average_memory_utilization_percent\": 70,\n",
    "\"annual_cost_million_usd\": 25\n",
    "},\n",
    "\"storage\": {\n",
    "\"s3_buckets\": 150,\n",
    "\"total_storage_tb\": 20000,\n",
    "\"used_storage_tb\": 15000,\n",
    "\"glacier_storage_tb\": 5000,\n",
    "\"monthly_storage_cost_million_usd\": 3\n",
    "},\n",
    "\"network\": {\n",
    "\"total_vpcs\": 50,\n",
    "\"subnets_per_vpc\": 10,\n",
    "\"monthly_data_transfer_tb\": 1000,\n",
    "\"data_transfer_cost_million_usd\": 2,\n",
    "\"average_latency_ms\": 25\n",
    "},\n",
    "\"databases\": {\n",
    "\"total_rds_instances\": 300,\n",
    "\"active_rds_instances\": 250,\n",
    "\"idle_rds_instances\": 50,\n",
    "\"monthly_rds_cost_million_usd\": 4,\n",
    "\"backup_storage_tb\": 500\n",
    "},\n",
    "\"security\": {\n",
    "\"active_security_groups\": 1000,\n",
    "\"unused_security_groups\": 200,\n",
    "\"monthly_security_cost_million_usd\": 1,\n",
    "\"average_threat_detection_per_month\": 500\n",
    "},\n",
    "\"monitoring\": {\n",
    "\"cloudwatch_alarms\": 1200,\n",
    "\"active_alarms\": 300,\n",
    "\"log_storage_tb\": 100,\n",
    "\"monthly_monitoring_cost_million_usd\": 0.5,\n",
    "\"average_response_time_ms\": 200\n",
    "}\n",
    "}"
   ]
  },
  {
   "cell_type": "code",
   "execution_count": 15,
   "metadata": {},
   "outputs": [
    {
     "name": "stdout",
     "output_type": "stream",
     "text": [
      "Total EC2 Instances: 5000\n",
      "Stopped EC2 Instances: 500\n",
      "Percentage of Stopped EC2 Instances: 10.0 %\n"
     ]
    }
   ],
   "source": [
    "# 1.Write a program to calculate the percentage of EC2 instances that are stopped.\n",
    "stopped_ec2_instances = aws_infra_data[\"compute\"][\"stopped_instances\"]\n",
    "total_ec2_instances = aws_infra_data[\"compute\"][\"total_ec2_instances\"]\n",
    "percentage_stopped_ec2_instances = stopped_ec2_instances/total_ec2_instances * 100\n",
    "print(\"Total EC2 Instances:\",total_ec2_instances)\n",
    "print(\"Stopped EC2 Instances:\",stopped_ec2_instances)\n",
    "print(\"Percentage of Stopped EC2 Instances:\",percentage_stopped_ec2_instances,\"%\")"
   ]
  },
  {
   "cell_type": "code",
   "execution_count": 16,
   "metadata": {},
   "outputs": [
    {
     "name": "stdout",
     "output_type": "stream",
     "text": [
      "Terminate stopped EC2 instance to save costs\n",
      "\n"
     ]
    }
   ],
   "source": [
    "# 2. If more than 10% of instances are stopped, suggest terminating them to save costs.\n",
    "if percentage_stopped_ec2_instances >= 10:\n",
    "    print(\"Terminate stopped EC2 instances to save costs\\n\")\n",
    "else:\n",
    "    print(\"do notning\")"
   ]
  },
  {
   "cell_type": "code",
   "execution_count": 23,
   "metadata": {},
   "outputs": [
    {
     "name": "stdout",
     "output_type": "stream",
     "text": [
      "Network latency is: 25 ms we need minor optimizations\n"
     ]
    }
   ],
   "source": [
    "# 3. Network latency\n",
    "# Using the aws_infra_data[\"network\"], evaluate the average network latency in milliseconds.\n",
    "#• If latency is above 30 ms, recommend a network upgrade.\n",
    "#• If latency is between 20 and 30 ms, suggest minor optimizations.\n",
    "#• Otherwise, state that latency is within acceptable limits.\n",
    "\n",
    "network_latency = aws_infra_data[\"network\"][\"average_latency_ms\"]\n",
    "#print(\"Network Latency is:\", network_latency, \"ms\")\n",
    "if network_latency >=30:\n",
    "    print(\"Network latency is:\",network_latency,\"ms. We need a network upgrade\")\n",
    "elif network_latency >= 20 and network_latency <=30:\n",
    "    print(\"Network latency is:\",network_latency,\"ms. We need minor optimizations\")\n",
    "else:\n",
    "    print(\"Network latency is:\",network_latency,\"ms and is in acceptable limits\")"
   ]
  },
  {
   "cell_type": "code",
   "execution_count": 33,
   "metadata": {},
   "outputs": [
    {
     "name": "stdout",
     "output_type": "stream",
     "text": [
      "Network Latency is: 19 ms\n",
      "Network Data Transfer Size is: 1000 TB\n",
      "Network Data Transfer Cost is: 2 Million USD\n",
      "Total Number of VPCs:  50\n",
      "Network performance is optimal\n",
      "Network latency is: 19 ms and is in acceptable limits\n"
     ]
    }
   ],
   "source": [
    "#4. Network Cost\n",
    "network_latency = aws_infra_data[\"network\"][\"average_latency_ms\"]\n",
    "network_data_transfer_size = aws_infra_data[\"network\"][\"monthly_data_transfer_tb\"]\n",
    "network_data_transfer_cost = aws_infra_data[\"network\"][\"data_transfer_cost_million_usd\"]\n",
    "no_of_vpcs = aws_infra_data[\"network\"][\"total_vpcs\"]\n",
    "\n",
    "print(\"Network Latency is:\", network_latency, \"ms\")\n",
    "print(\"Network Data Transfer Size is:\", network_data_transfer_size,\"TB\")\n",
    "print(\"Network Data Transfer Cost is:\", network_data_transfer_cost,\"Million USD\")\n",
    "print(\"Total Number of VPCs: \", no_of_vpcs)\n",
    "\n",
    "if network_latency >= 30:\n",
    "    if network_data_transfer_cost >= 2:\n",
    "        print(\"Network latency is:\",network_latency,\"ms. We need a network upgrade & data transfer plans\")\n",
    "    else:\n",
    "        print(\"Network latency is:\",network_latency,\"ms. We just need a network upgrade\")\n",
    "elif network_latency >= 20 and network_latency <=30:\n",
    "    print(\"Network latency is:\",network_latency,\"ms. We need minor optimizations\")\n",
    "    if no_of_vpcs >= 50:\n",
    "        print(\"Your VPCs is: \", no_of_vpcs, \". You need to optimize VPC peering\")\n",
    "    else:\n",
    "        print(\"Try minor configuration changes\")\n",
    "elif network_latency <= 20:\n",
    "    print(\"Network performance is optimal\")\n",
    "    print(\"Network latency is:\",network_latency,\"ms and is in acceptable limits\")"
   ]
  },
  {
   "cell_type": "code",
   "execution_count": null,
   "metadata": {},
   "outputs": [],
   "source": []
  }
 ],
 "metadata": {
  "kernelspec": {
   "display_name": "Python 3",
   "language": "python",
   "name": "python3"
  },
  "language_info": {
   "codemirror_mode": {
    "name": "ipython",
    "version": 3
   },
   "file_extension": ".py",
   "mimetype": "text/x-python",
   "name": "python",
   "nbconvert_exporter": "python",
   "pygments_lexer": "ipython3",
   "version": "3.11.7"
  }
 },
 "nbformat": 4,
 "nbformat_minor": 2
}
