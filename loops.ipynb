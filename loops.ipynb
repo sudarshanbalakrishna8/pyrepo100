{
 "cells": [
  {
   "cell_type": "code",
   "execution_count": null,
   "metadata": {},
   "outputs": [],
   "source": [
    "i = 0\n",
    "while i < 10:\n",
    "    i += 1\n",
    "    print(\"sudarshan\", i)"
   ]
  },
  {
   "cell_type": "code",
   "execution_count": null,
   "metadata": {},
   "outputs": [],
   "source": [
    "num = 0\n",
    "total = 0\n",
    "while num < 100:\n",
    "    total = total + num\n",
    "    num = num + 1\n",
    "    print(\"Number\",num,\"Sum is:\", total) "
   ]
  },
  {
   "cell_type": "code",
   "execution_count": null,
   "metadata": {},
   "outputs": [],
   "source": [
    "current_num = int(input(\"Enter number 1: \"))\n",
    "final_num = int(input(\"Enter number 2: \"))\n",
    "#print(num1, num2)\n",
    "databse = []\n",
    "while  current_num < final_num:\n",
    "    databse.append(current_num)\n",
    "    current_num = current_num + 1\n",
    "print(databse)"
   ]
  },
  {
   "cell_type": "code",
   "execution_count": null,
   "metadata": {},
   "outputs": [],
   "source": [
    "\n",
    "#databse = []\n",
    "current_num = 50\n",
    "final_num = 100\n",
    "while current_num < final_num:\n",
    "    final_num = final_num - 5\n",
    "    print(final_num)\n",
    "\n"
   ]
  },
  {
   "cell_type": "code",
   "execution_count": null,
   "metadata": {},
   "outputs": [],
   "source": [
    "numbers = [10, 5, 3, -3, -8, -6]\n",
    "\n",
    "if numbers[0] > 0:\n",
    "    print(numbers[0], \"is positive number\")\n",
    "else:\n",
    "    print(numbers[0], \"is negative\")\n",
    "\n",
    "if numbers[1] > 0:\n",
    "    print(numbers[1], \"is positive number\")\n",
    "else:\n",
    "    print(numbers[1], \"is negative\")\n",
    "\n",
    "if numbers[4] > 0:\n",
    "    print(numbers[4], \"is positive number\")\n",
    "else:\n",
    "    print(numbers[4], \"is negative\")  \n"
   ]
  },
  {
   "cell_type": "code",
   "execution_count": null,
   "metadata": {},
   "outputs": [],
   "source": [
    "numbers = [10, 5, 3, -3, -8, -6]\n",
    "\n",
    "index = 0\n",
    "while index < len(numbers):\n",
    "    if numbers[index] > 0:\n",
    "        print(numbers[index], \"is positive number\")\n",
    "    else:\n",
    "        print(numbers[index], \"is negative\")\n",
    "    index = index + 1\n"
   ]
  },
  {
   "cell_type": "code",
   "execution_count": 2,
   "metadata": {},
   "outputs": [],
   "source": [
    "cities = [\n",
    "\"Austin\", \"Oslo\", \"Utrecht\", \"Edinburgh\", \"Istanbul\",\n",
    "\"Amsterdam\", \"Omaha\", \"Ibadan\", \"Aberdeen\", \"Orlando\",\n",
    "\"Los Angeles\", \"Paris\", \"Tokyo\", \"Moscow\", \"Seoul\",\n",
    "\"Cairo\", \"London\", \"Mexico City\", \"Berlin\", \"Sydney\",\n",
    "\"Chicago\", \"Bangkok\", \"Dubai\", \"Kyoto\", \"Mumbai\",\n",
    "\"Vienna\", \"Lisbon\", \"Jakarta\", \"Stockholm\", \"Madrid\",\n",
    "\"Brussels\", \"Lima\", \"Helsinki\", \"Prague\", \"Dublin\",\n",
    "\"Warsaw\", \"Toronto\", \"Budapest\", \"Athens\", \"Manila\",\n",
    "\"Doha\", \"Zagreb\", \"Tallinn\", \"Havana\", \"Quebec City\",\n",
    "\"Kabul\", \"Nairobi\", \"Tehran\", \"Osaka\", \"Florence\"\n",
    "]"
   ]
  },
  {
   "cell_type": "code",
   "execution_count": null,
   "metadata": {},
   "outputs": [],
   "source": [
    "# 1. Write a program to count how many cities in the list start with a vowel (A, E, I, O, U).\n",
    "\n",
    "vowels = \"AEIOUaeiou\"\n",
    "index = 0\n",
    "counter = 0\n",
    "while index < len(cities):\n",
    "    if cities[index][0] in vowels:\n",
    "        counter = counter + 1\n",
    "        print(cities[index])\n",
    "    index = index + 1\n",
    "print(counter)\n",
    "\n",
    "\n"
   ]
  },
  {
   "cell_type": "code",
   "execution_count": 9,
   "metadata": {},
   "outputs": [
    {
     "name": "stdout",
     "output_type": "stream",
     "text": [
      "City with longest Name is:  Los Angeles\n",
      "longest lenght is:  11\n"
     ]
    }
   ],
   "source": [
    "#2. Find and print the city with the longest name.\n",
    "longest_city = \"\"\n",
    "longest_length = 0\n",
    "index = 0\n",
    "while index < len(cities):\n",
    "    city = cities[index]\n",
    "    current_length = len(city)\n",
    "    if current_length > longest_length:\n",
    "        longest_city = city\n",
    "        longest_length = current_length\n",
    "    index = index + 1\n",
    "print(\"City with longest Name is: \", longest_city)\n",
    "print(\"longest lenght is: \", longest_length)\n"
   ]
  }
 ],
 "metadata": {
  "kernelspec": {
   "display_name": "Python 3",
   "language": "python",
   "name": "python3"
  },
  "language_info": {
   "codemirror_mode": {
    "name": "ipython",
    "version": 3
   },
   "file_extension": ".py",
   "mimetype": "text/x-python",
   "name": "python",
   "nbconvert_exporter": "python",
   "pygments_lexer": "ipython3",
   "version": "3.11.7"
  }
 },
 "nbformat": 4,
 "nbformat_minor": 2
}
